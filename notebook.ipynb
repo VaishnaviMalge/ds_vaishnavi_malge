{
  "cells": [
    {
      "cell_type": "markdown",
      "id": "73dac9cf",
      "metadata": {
        "id": "73dac9cf"
      },
      "source": [
        "# Bitcoin Market Trader Sentiment Analysis"
      ]
    },
    {
      "cell_type": "code",
      "execution_count": null,
      "id": "c74660cc",
      "metadata": {
        "id": "c74660cc"
      },
      "outputs": [],
      "source": [
        "import pandas as pd\n",
        "import numpy as np\n",
        "import matplotlib.pyplot as plt\n",
        "import seaborn as sns"
      ]
    },
    {
      "cell_type": "markdown",
      "id": "f69cee93",
      "metadata": {
        "id": "f69cee93"
      },
      "source": [
        "# Load Dataset"
      ]
    },
    {
      "cell_type": "code",
      "execution_count": null,
      "id": "616e47d4-d59b-4643-af2f-832aa6d5155b",
      "metadata": {
        "id": "616e47d4-d59b-4643-af2f-832aa6d5155b",
        "outputId": "96bcde42-bd05-4655-8b26-e4de3ea91cbe"
      },
      "outputs": [
        {
          "data": {
            "text/html": [
              "<div>\n",
              "<style scoped>\n",
              "    .dataframe tbody tr th:only-of-type {\n",
              "        vertical-align: middle;\n",
              "    }\n",
              "\n",
              "    .dataframe tbody tr th {\n",
              "        vertical-align: top;\n",
              "    }\n",
              "\n",
              "    .dataframe thead th {\n",
              "        text-align: right;\n",
              "    }\n",
              "</style>\n",
              "<table border=\"1\" class=\"dataframe\">\n",
              "  <thead>\n",
              "    <tr style=\"text-align: right;\">\n",
              "      <th></th>\n",
              "      <th>Account</th>\n",
              "      <th>Coin</th>\n",
              "      <th>Execution Price</th>\n",
              "      <th>Size Tokens</th>\n",
              "      <th>Size USD</th>\n",
              "      <th>Side</th>\n",
              "      <th>Timestamp IST</th>\n",
              "      <th>Start Position</th>\n",
              "      <th>Direction</th>\n",
              "      <th>Closed PnL</th>\n",
              "      <th>Transaction Hash</th>\n",
              "      <th>Order ID</th>\n",
              "      <th>Crossed</th>\n",
              "      <th>Fee</th>\n",
              "      <th>Trade ID</th>\n",
              "      <th>Timestamp</th>\n",
              "    </tr>\n",
              "  </thead>\n",
              "  <tbody>\n",
              "    <tr>\n",
              "      <th>0</th>\n",
              "      <td>0xae5eacaf9c6b9111fd53034a602c192a04e082ed</td>\n",
              "      <td>@107</td>\n",
              "      <td>7.9769</td>\n",
              "      <td>986.87</td>\n",
              "      <td>7872.16</td>\n",
              "      <td>BUY</td>\n",
              "      <td>02-12-2024 22:50</td>\n",
              "      <td>0.000000</td>\n",
              "      <td>Buy</td>\n",
              "      <td>0.0</td>\n",
              "      <td>0xec09451986a1874e3a980418412fcd0201f500c95bac...</td>\n",
              "      <td>52017706630</td>\n",
              "      <td>True</td>\n",
              "      <td>0.345404</td>\n",
              "      <td>8.950000e+14</td>\n",
              "      <td>1.730000e+12</td>\n",
              "    </tr>\n",
              "    <tr>\n",
              "      <th>1</th>\n",
              "      <td>0xae5eacaf9c6b9111fd53034a602c192a04e082ed</td>\n",
              "      <td>@107</td>\n",
              "      <td>7.9800</td>\n",
              "      <td>16.00</td>\n",
              "      <td>127.68</td>\n",
              "      <td>BUY</td>\n",
              "      <td>02-12-2024 22:50</td>\n",
              "      <td>986.524596</td>\n",
              "      <td>Buy</td>\n",
              "      <td>0.0</td>\n",
              "      <td>0xec09451986a1874e3a980418412fcd0201f500c95bac...</td>\n",
              "      <td>52017706630</td>\n",
              "      <td>True</td>\n",
              "      <td>0.005600</td>\n",
              "      <td>4.430000e+14</td>\n",
              "      <td>1.730000e+12</td>\n",
              "    </tr>\n",
              "    <tr>\n",
              "      <th>2</th>\n",
              "      <td>0xae5eacaf9c6b9111fd53034a602c192a04e082ed</td>\n",
              "      <td>@107</td>\n",
              "      <td>7.9855</td>\n",
              "      <td>144.09</td>\n",
              "      <td>1150.63</td>\n",
              "      <td>BUY</td>\n",
              "      <td>02-12-2024 22:50</td>\n",
              "      <td>1002.518996</td>\n",
              "      <td>Buy</td>\n",
              "      <td>0.0</td>\n",
              "      <td>0xec09451986a1874e3a980418412fcd0201f500c95bac...</td>\n",
              "      <td>52017706630</td>\n",
              "      <td>True</td>\n",
              "      <td>0.050431</td>\n",
              "      <td>6.600000e+14</td>\n",
              "      <td>1.730000e+12</td>\n",
              "    </tr>\n",
              "  </tbody>\n",
              "</table>\n",
              "</div>"
            ],
            "text/plain": [
              "                                      Account  Coin  Execution Price  \\\n",
              "0  0xae5eacaf9c6b9111fd53034a602c192a04e082ed  @107           7.9769   \n",
              "1  0xae5eacaf9c6b9111fd53034a602c192a04e082ed  @107           7.9800   \n",
              "2  0xae5eacaf9c6b9111fd53034a602c192a04e082ed  @107           7.9855   \n",
              "\n",
              "   Size Tokens  Size USD Side     Timestamp IST  Start Position Direction  \\\n",
              "0       986.87   7872.16  BUY  02-12-2024 22:50        0.000000       Buy   \n",
              "1        16.00    127.68  BUY  02-12-2024 22:50      986.524596       Buy   \n",
              "2       144.09   1150.63  BUY  02-12-2024 22:50     1002.518996       Buy   \n",
              "\n",
              "   Closed PnL                                   Transaction Hash     Order ID  \\\n",
              "0         0.0  0xec09451986a1874e3a980418412fcd0201f500c95bac...  52017706630   \n",
              "1         0.0  0xec09451986a1874e3a980418412fcd0201f500c95bac...  52017706630   \n",
              "2         0.0  0xec09451986a1874e3a980418412fcd0201f500c95bac...  52017706630   \n",
              "\n",
              "   Crossed       Fee      Trade ID     Timestamp  \n",
              "0     True  0.345404  8.950000e+14  1.730000e+12  \n",
              "1     True  0.005600  4.430000e+14  1.730000e+12  \n",
              "2     True  0.050431  6.600000e+14  1.730000e+12  "
            ]
          },
          "execution_count": 70,
          "metadata": {},
          "output_type": "execute_result"
        }
      ],
      "source": [
        "hist_data = pd.read_csv(r\"C:\\Users\\User\\Downloads\\historical_data.csv\")\n",
        "hist_data.head(3)"
      ]
    },
    {
      "cell_type": "code",
      "execution_count": null,
      "id": "373a980a",
      "metadata": {
        "id": "373a980a",
        "outputId": "61f4f4cd-880d-480c-cc75-6ae9fca5a3a3"
      },
      "outputs": [
        {
          "data": {
            "text/html": [
              "<div>\n",
              "<style scoped>\n",
              "    .dataframe tbody tr th:only-of-type {\n",
              "        vertical-align: middle;\n",
              "    }\n",
              "\n",
              "    .dataframe tbody tr th {\n",
              "        vertical-align: top;\n",
              "    }\n",
              "\n",
              "    .dataframe thead th {\n",
              "        text-align: right;\n",
              "    }\n",
              "</style>\n",
              "<table border=\"1\" class=\"dataframe\">\n",
              "  <thead>\n",
              "    <tr style=\"text-align: right;\">\n",
              "      <th></th>\n",
              "      <th>timestamp</th>\n",
              "      <th>value</th>\n",
              "      <th>classification</th>\n",
              "      <th>date</th>\n",
              "    </tr>\n",
              "  </thead>\n",
              "  <tbody>\n",
              "    <tr>\n",
              "      <th>0</th>\n",
              "      <td>1517463000</td>\n",
              "      <td>30</td>\n",
              "      <td>Fear</td>\n",
              "      <td>2018-02-01</td>\n",
              "    </tr>\n",
              "    <tr>\n",
              "      <th>1</th>\n",
              "      <td>1517549400</td>\n",
              "      <td>15</td>\n",
              "      <td>Extreme Fear</td>\n",
              "      <td>2018-02-02</td>\n",
              "    </tr>\n",
              "    <tr>\n",
              "      <th>2</th>\n",
              "      <td>1517635800</td>\n",
              "      <td>40</td>\n",
              "      <td>Fear</td>\n",
              "      <td>2018-02-03</td>\n",
              "    </tr>\n",
              "  </tbody>\n",
              "</table>\n",
              "</div>"
            ],
            "text/plain": [
              "    timestamp  value classification        date\n",
              "0  1517463000     30           Fear  2018-02-01\n",
              "1  1517549400     15   Extreme Fear  2018-02-02\n",
              "2  1517635800     40           Fear  2018-02-03"
            ]
          },
          "execution_count": 71,
          "metadata": {},
          "output_type": "execute_result"
        }
      ],
      "source": [
        "sent_data = pd.read_csv(r\"C:\\Users\\User\\Downloads\\fear_greed_index.csv\")\n",
        "sent_data.head(3)"
      ]
    },
    {
      "cell_type": "markdown",
      "id": "731089da-1b19-4893-a670-0116e7163868",
      "metadata": {
        "id": "731089da-1b19-4893-a670-0116e7163868"
      },
      "source": [
        "# Data Preprocessing"
      ]
    },
    {
      "cell_type": "markdown",
      "id": "8e32562c",
      "metadata": {
        "id": "8e32562c"
      },
      "source": [
        "### Historical Data"
      ]
    },
    {
      "cell_type": "raw",
      "id": "181fa16d-79cc-4b7b-90e1-9f1f3419af6d",
      "metadata": {
        "id": "181fa16d-79cc-4b7b-90e1-9f1f3419af6d"
      },
      "source": [
        "Timestamp IST is a execution time where as the Timestamp is a logging time. Hence Timestamp IST ill be used foor analysis purpose"
      ]
    },
    {
      "cell_type": "code",
      "execution_count": null,
      "id": "9c151b75-6703-4301-a6ff-90083fe925b8",
      "metadata": {
        "id": "9c151b75-6703-4301-a6ff-90083fe925b8",
        "outputId": "3874c194-ffd5-4d5e-9699-71606831af51"
      },
      "outputs": [
        {
          "data": {
            "text/html": [
              "<div>\n",
              "<style scoped>\n",
              "    .dataframe tbody tr th:only-of-type {\n",
              "        vertical-align: middle;\n",
              "    }\n",
              "\n",
              "    .dataframe tbody tr th {\n",
              "        vertical-align: top;\n",
              "    }\n",
              "\n",
              "    .dataframe thead th {\n",
              "        text-align: right;\n",
              "    }\n",
              "</style>\n",
              "<table border=\"1\" class=\"dataframe\">\n",
              "  <thead>\n",
              "    <tr style=\"text-align: right;\">\n",
              "      <th></th>\n",
              "      <th>Execution Price</th>\n",
              "      <th>Side</th>\n",
              "      <th>Timestamp IST</th>\n",
              "      <th>Closed PnL</th>\n",
              "      <th>Size USD</th>\n",
              "    </tr>\n",
              "  </thead>\n",
              "  <tbody>\n",
              "    <tr>\n",
              "      <th>0</th>\n",
              "      <td>7.9769</td>\n",
              "      <td>BUY</td>\n",
              "      <td>02-12-2024 22:50</td>\n",
              "      <td>0.0</td>\n",
              "      <td>7872.16</td>\n",
              "    </tr>\n",
              "    <tr>\n",
              "      <th>1</th>\n",
              "      <td>7.9800</td>\n",
              "      <td>BUY</td>\n",
              "      <td>02-12-2024 22:50</td>\n",
              "      <td>0.0</td>\n",
              "      <td>127.68</td>\n",
              "    </tr>\n",
              "    <tr>\n",
              "      <th>2</th>\n",
              "      <td>7.9855</td>\n",
              "      <td>BUY</td>\n",
              "      <td>02-12-2024 22:50</td>\n",
              "      <td>0.0</td>\n",
              "      <td>1150.63</td>\n",
              "    </tr>\n",
              "    <tr>\n",
              "      <th>3</th>\n",
              "      <td>7.9874</td>\n",
              "      <td>BUY</td>\n",
              "      <td>02-12-2024 22:50</td>\n",
              "      <td>0.0</td>\n",
              "      <td>1142.04</td>\n",
              "    </tr>\n",
              "    <tr>\n",
              "      <th>4</th>\n",
              "      <td>7.9894</td>\n",
              "      <td>BUY</td>\n",
              "      <td>02-12-2024 22:50</td>\n",
              "      <td>0.0</td>\n",
              "      <td>69.75</td>\n",
              "    </tr>\n",
              "  </tbody>\n",
              "</table>\n",
              "</div>"
            ],
            "text/plain": [
              "   Execution Price Side     Timestamp IST  Closed PnL  Size USD\n",
              "0           7.9769  BUY  02-12-2024 22:50         0.0   7872.16\n",
              "1           7.9800  BUY  02-12-2024 22:50         0.0    127.68\n",
              "2           7.9855  BUY  02-12-2024 22:50         0.0   1150.63\n",
              "3           7.9874  BUY  02-12-2024 22:50         0.0   1142.04\n",
              "4           7.9894  BUY  02-12-2024 22:50         0.0     69.75"
            ]
          },
          "execution_count": 72,
          "metadata": {},
          "output_type": "execute_result"
        }
      ],
      "source": [
        "hist_data1 = hist_data[[\"Execution Price\",\"Side\", \"Timestamp IST\",\"Closed PnL\",\"Size USD\"]]\n",
        "hist_data1.head()"
      ]
    },
    {
      "cell_type": "code",
      "execution_count": null,
      "id": "bfe7fed8-b306-4f23-922b-b75c06e678bf",
      "metadata": {
        "id": "bfe7fed8-b306-4f23-922b-b75c06e678bf",
        "outputId": "73d700c8-d821-4e73-b857-4562547229ec"
      },
      "outputs": [
        {
          "name": "stdout",
          "output_type": "stream",
          "text": [
            "<class 'pandas.core.frame.DataFrame'>\n",
            "RangeIndex: 211224 entries, 0 to 211223\n",
            "Data columns (total 5 columns):\n",
            " #   Column           Non-Null Count   Dtype  \n",
            "---  ------           --------------   -----  \n",
            " 0   Execution Price  211224 non-null  float64\n",
            " 1   Side             211224 non-null  object \n",
            " 2   Timestamp IST    211224 non-null  object \n",
            " 3   Closed PnL       211224 non-null  float64\n",
            " 4   Size USD         211224 non-null  float64\n",
            "dtypes: float64(3), object(2)\n",
            "memory usage: 8.1+ MB\n"
          ]
        }
      ],
      "source": [
        "hist_data1.info()"
      ]
    },
    {
      "cell_type": "markdown",
      "id": "d3cc25bd",
      "metadata": {
        "id": "d3cc25bd"
      },
      "source": [
        "No missing value in the dataset"
      ]
    },
    {
      "cell_type": "code",
      "execution_count": null,
      "id": "1a5e5135-6312-4744-aaf3-d51bf97723d2",
      "metadata": {
        "id": "1a5e5135-6312-4744-aaf3-d51bf97723d2",
        "outputId": "fe3f9b66-af05-416a-c611-8bef5b76c97c"
      },
      "outputs": [
        {
          "data": {
            "text/plain": [
              "21186"
            ]
          },
          "execution_count": 74,
          "metadata": {},
          "output_type": "execute_result"
        }
      ],
      "source": [
        "hist_data1.duplicated().sum()"
      ]
    },
    {
      "cell_type": "code",
      "execution_count": null,
      "id": "bcff37d1-ffb7-420b-95c4-544e3f101bab",
      "metadata": {
        "id": "bcff37d1-ffb7-420b-95c4-544e3f101bab",
        "outputId": "75f85924-8da9-4817-e515-b942edccf475"
      },
      "outputs": [
        {
          "data": {
            "text/html": [
              "<div>\n",
              "<style scoped>\n",
              "    .dataframe tbody tr th:only-of-type {\n",
              "        vertical-align: middle;\n",
              "    }\n",
              "\n",
              "    .dataframe tbody tr th {\n",
              "        vertical-align: top;\n",
              "    }\n",
              "\n",
              "    .dataframe thead th {\n",
              "        text-align: right;\n",
              "    }\n",
              "</style>\n",
              "<table border=\"1\" class=\"dataframe\">\n",
              "  <thead>\n",
              "    <tr style=\"text-align: right;\">\n",
              "      <th></th>\n",
              "      <th>Execution Price</th>\n",
              "      <th>Side</th>\n",
              "      <th>Timestamp IST</th>\n",
              "      <th>Closed PnL</th>\n",
              "      <th>Size USD</th>\n",
              "    </tr>\n",
              "  </thead>\n",
              "  <tbody>\n",
              "    <tr>\n",
              "      <th>53</th>\n",
              "      <td>9.04000</td>\n",
              "      <td>SELL</td>\n",
              "      <td>03-12-2024 14:39</td>\n",
              "      <td>606.330666</td>\n",
              "      <td>4520.00</td>\n",
              "    </tr>\n",
              "    <tr>\n",
              "      <th>176</th>\n",
              "      <td>241.14000</td>\n",
              "      <td>SELL</td>\n",
              "      <td>03-12-2024 23:38</td>\n",
              "      <td>0.646632</td>\n",
              "      <td>19.29</td>\n",
              "    </tr>\n",
              "    <tr>\n",
              "      <th>178</th>\n",
              "      <td>241.14000</td>\n",
              "      <td>SELL</td>\n",
              "      <td>03-12-2024 23:38</td>\n",
              "      <td>0.646632</td>\n",
              "      <td>19.29</td>\n",
              "    </tr>\n",
              "    <tr>\n",
              "      <th>215</th>\n",
              "      <td>0.62979</td>\n",
              "      <td>BUY</td>\n",
              "      <td>05-03-2025 12:42</td>\n",
              "      <td>0.000000</td>\n",
              "      <td>17.57</td>\n",
              "    </tr>\n",
              "    <tr>\n",
              "      <th>647</th>\n",
              "      <td>3.97770</td>\n",
              "      <td>SELL</td>\n",
              "      <td>30-09-2024 11:19</td>\n",
              "      <td>0.000000</td>\n",
              "      <td>142.32</td>\n",
              "    </tr>\n",
              "  </tbody>\n",
              "</table>\n",
              "</div>"
            ],
            "text/plain": [
              "     Execution Price  Side     Timestamp IST  Closed PnL  Size USD\n",
              "53           9.04000  SELL  03-12-2024 14:39  606.330666   4520.00\n",
              "176        241.14000  SELL  03-12-2024 23:38    0.646632     19.29\n",
              "178        241.14000  SELL  03-12-2024 23:38    0.646632     19.29\n",
              "215          0.62979   BUY  05-03-2025 12:42    0.000000     17.57\n",
              "647          3.97770  SELL  30-09-2024 11:19    0.000000    142.32"
            ]
          },
          "execution_count": 75,
          "metadata": {},
          "output_type": "execute_result"
        }
      ],
      "source": [
        "hist_data1[hist_data1.duplicated()].head()"
      ]
    },
    {
      "cell_type": "raw",
      "id": "4cd066a4-53fc-417b-8e25-004baec16276",
      "metadata": {
        "id": "4cd066a4-53fc-417b-8e25-004baec16276"
      },
      "source": [
        "whole row is repeated as it is. need to remove duplicates"
      ]
    },
    {
      "cell_type": "code",
      "execution_count": null,
      "id": "aba15774-1113-4e4d-bb5a-00ba05dc2138",
      "metadata": {
        "id": "aba15774-1113-4e4d-bb5a-00ba05dc2138"
      },
      "outputs": [],
      "source": [
        "hist_data1 = hist_data1.drop_duplicates()"
      ]
    },
    {
      "cell_type": "code",
      "execution_count": null,
      "id": "2ecf862a-0fbd-4fba-bae5-e8418d376817",
      "metadata": {
        "id": "2ecf862a-0fbd-4fba-bae5-e8418d376817",
        "outputId": "8cd0c56d-0eae-4fac-e462-b22e14c308e4"
      },
      "outputs": [
        {
          "data": {
            "text/plain": [
              "0"
            ]
          },
          "execution_count": 77,
          "metadata": {},
          "output_type": "execute_result"
        }
      ],
      "source": [
        "hist_data1.duplicated().sum()"
      ]
    },
    {
      "cell_type": "code",
      "execution_count": null,
      "id": "449067c1-69d9-4542-8b55-b8e3f4e95baa",
      "metadata": {
        "id": "449067c1-69d9-4542-8b55-b8e3f4e95baa",
        "outputId": "6d6efbe8-64ad-408c-cacb-e852ead37faa"
      },
      "outputs": [
        {
          "data": {
            "text/plain": [
              "Execution Price    float64\n",
              "Side                object\n",
              "Timestamp IST       object\n",
              "Closed PnL         float64\n",
              "Size USD           float64\n",
              "dtype: object"
            ]
          },
          "execution_count": 78,
          "metadata": {},
          "output_type": "execute_result"
        }
      ],
      "source": [
        "hist_data1.dtypes"
      ]
    },
    {
      "cell_type": "code",
      "execution_count": null,
      "id": "3cb2410a-1e0d-4c66-8ca7-47f1a576fcb1",
      "metadata": {
        "id": "3cb2410a-1e0d-4c66-8ca7-47f1a576fcb1",
        "outputId": "6fa28af6-0f48-404d-b4f1-4313ed56297b"
      },
      "outputs": [
        {
          "data": {
            "text/html": [
              "<div>\n",
              "<style scoped>\n",
              "    .dataframe tbody tr th:only-of-type {\n",
              "        vertical-align: middle;\n",
              "    }\n",
              "\n",
              "    .dataframe tbody tr th {\n",
              "        vertical-align: top;\n",
              "    }\n",
              "\n",
              "    .dataframe thead th {\n",
              "        text-align: right;\n",
              "    }\n",
              "</style>\n",
              "<table border=\"1\" class=\"dataframe\">\n",
              "  <thead>\n",
              "    <tr style=\"text-align: right;\">\n",
              "      <th></th>\n",
              "      <th>Execution Price</th>\n",
              "      <th>Side</th>\n",
              "      <th>Closed PnL</th>\n",
              "      <th>Size USD</th>\n",
              "      <th>Date</th>\n",
              "    </tr>\n",
              "  </thead>\n",
              "  <tbody>\n",
              "    <tr>\n",
              "      <th>0</th>\n",
              "      <td>7.9769</td>\n",
              "      <td>BUY</td>\n",
              "      <td>0.0</td>\n",
              "      <td>7872.16</td>\n",
              "      <td>2024-02-12</td>\n",
              "    </tr>\n",
              "    <tr>\n",
              "      <th>1</th>\n",
              "      <td>7.9800</td>\n",
              "      <td>BUY</td>\n",
              "      <td>0.0</td>\n",
              "      <td>127.68</td>\n",
              "      <td>2024-02-12</td>\n",
              "    </tr>\n",
              "    <tr>\n",
              "      <th>2</th>\n",
              "      <td>7.9855</td>\n",
              "      <td>BUY</td>\n",
              "      <td>0.0</td>\n",
              "      <td>1150.63</td>\n",
              "      <td>2024-02-12</td>\n",
              "    </tr>\n",
              "  </tbody>\n",
              "</table>\n",
              "</div>"
            ],
            "text/plain": [
              "   Execution Price Side  Closed PnL  Size USD        Date\n",
              "0           7.9769  BUY         0.0   7872.16  2024-02-12\n",
              "1           7.9800  BUY         0.0    127.68  2024-02-12\n",
              "2           7.9855  BUY         0.0   1150.63  2024-02-12"
            ]
          },
          "execution_count": 79,
          "metadata": {},
          "output_type": "execute_result"
        }
      ],
      "source": [
        "# for extracting date from timestamp it should be of datetime dtype\n",
        "\n",
        "hist_data1[\"Timestamp IST\"] = hist_data1[\"Timestamp IST\"].astype('datetime64[ns]')\n",
        "hist_data1[\"Date\"] = hist_data1[\"Timestamp IST\"].dt.date\n",
        "hist_data1.drop(columns = [\"Timestamp IST\"],inplace = True)\n",
        "hist_data1.head(3)"
      ]
    },
    {
      "cell_type": "code",
      "execution_count": null,
      "id": "c762eba4",
      "metadata": {
        "id": "c762eba4",
        "outputId": "5b6df8ac-490e-420a-c359-9dda2493b017"
      },
      "outputs": [
        {
          "data": {
            "text/plain": [
              "dtype('O')"
            ]
          },
          "execution_count": 80,
          "metadata": {},
          "output_type": "execute_result"
        }
      ],
      "source": [
        "hist_data1['Date'].dtype"
      ]
    },
    {
      "cell_type": "code",
      "execution_count": null,
      "id": "5c37eecc",
      "metadata": {
        "id": "5c37eecc"
      },
      "outputs": [],
      "source": [
        "# extracted date from timestamp is of object dtype convert it again in datetime\n",
        "\n",
        "hist_data1[\"Date\"] = hist_data1[\"Date\"].astype('datetime64[ns]')"
      ]
    },
    {
      "cell_type": "code",
      "execution_count": null,
      "id": "d58d1dbb",
      "metadata": {
        "id": "d58d1dbb",
        "outputId": "316ddb35-f7b4-4a82-a59d-9a6bf1db35b7"
      },
      "outputs": [
        {
          "data": {
            "text/plain": [
              "dtype('<M8[ns]')"
            ]
          },
          "execution_count": 82,
          "metadata": {},
          "output_type": "execute_result"
        }
      ],
      "source": [
        "hist_data1['Date'].dtype"
      ]
    },
    {
      "cell_type": "code",
      "execution_count": null,
      "id": "4ac136b4-3d88-4bd9-b1bd-22d16e06f012",
      "metadata": {
        "id": "4ac136b4-3d88-4bd9-b1bd-22d16e06f012"
      },
      "outputs": [],
      "source": [
        "# aggregating a per data and coin\n",
        "\n",
        "datewise_hist_data = hist_data1.groupby(\"Date\", as_index = False).agg({\n",
        "    \"Execution Price\" : \"mean\",\n",
        "    \"Size USD\" : \"sum\",\n",
        "    \"Closed PnL\" : \"sum\",\n",
        "})\n",
        "Buy = hist_data1[hist_data1['Side']=='BUY'].groupby(\"Date\").size().to_frame(\"Buy_Count\")         # convert to dataframe with column name Buy_Count and store in Buy\n",
        "Sell = hist_data1[hist_data1['Side']=='SELL'].groupby(\"Date\").size().to_frame(\"Sell_Count\")\n",
        "\n",
        "\n",
        "datewise_hist_data = datewise_hist_data.merge(Buy, on='Date', how='left')\n",
        "datewise_hist_data = datewise_hist_data.merge(Sell, on='Date', how='left')\n",
        "\n",
        "datewise_hist_data[['Buy_Count', 'Sell_Count']] = datewise_hist_data[['Buy_Count', 'Sell_Count']].fillna(0).astype(int)\n"
      ]
    },
    {
      "cell_type": "code",
      "execution_count": null,
      "id": "92f36b88",
      "metadata": {
        "id": "92f36b88",
        "outputId": "1d829793-deeb-44ff-c6bd-7e5c240ba6fb"
      },
      "outputs": [
        {
          "data": {
            "text/html": [
              "<div>\n",
              "<style scoped>\n",
              "    .dataframe tbody tr th:only-of-type {\n",
              "        vertical-align: middle;\n",
              "    }\n",
              "\n",
              "    .dataframe tbody tr th {\n",
              "        vertical-align: top;\n",
              "    }\n",
              "\n",
              "    .dataframe thead th {\n",
              "        text-align: right;\n",
              "    }\n",
              "</style>\n",
              "<table border=\"1\" class=\"dataframe\">\n",
              "  <thead>\n",
              "    <tr style=\"text-align: right;\">\n",
              "      <th></th>\n",
              "      <th>Date</th>\n",
              "      <th>Execution Price</th>\n",
              "      <th>Size USD</th>\n",
              "      <th>Closed PnL</th>\n",
              "      <th>Buy_Count</th>\n",
              "      <th>Sell_Count</th>\n",
              "    </tr>\n",
              "  </thead>\n",
              "  <tbody>\n",
              "    <tr>\n",
              "      <th>0</th>\n",
              "      <td>2023-01-05</td>\n",
              "      <td>1898.133333</td>\n",
              "      <td>477.00</td>\n",
              "      <td>0.000000</td>\n",
              "      <td>3</td>\n",
              "      <td>0</td>\n",
              "    </tr>\n",
              "    <tr>\n",
              "      <th>1</th>\n",
              "      <td>2023-05-12</td>\n",
              "      <td>11038.300000</td>\n",
              "      <td>50005.83</td>\n",
              "      <td>0.000000</td>\n",
              "      <td>7</td>\n",
              "      <td>2</td>\n",
              "    </tr>\n",
              "    <tr>\n",
              "      <th>2</th>\n",
              "      <td>2023-12-14</td>\n",
              "      <td>8031.868818</td>\n",
              "      <td>113203.35</td>\n",
              "      <td>-205.434737</td>\n",
              "      <td>5</td>\n",
              "      <td>6</td>\n",
              "    </tr>\n",
              "    <tr>\n",
              "      <th>3</th>\n",
              "      <td>2023-12-15</td>\n",
              "      <td>2.982000</td>\n",
              "      <td>10609.95</td>\n",
              "      <td>-24.632034</td>\n",
              "      <td>2</td>\n",
              "      <td>0</td>\n",
              "    </tr>\n",
              "    <tr>\n",
              "      <th>4</th>\n",
              "      <td>2023-12-16</td>\n",
              "      <td>0.384707</td>\n",
              "      <td>15348.77</td>\n",
              "      <td>0.000000</td>\n",
              "      <td>3</td>\n",
              "      <td>0</td>\n",
              "    </tr>\n",
              "    <tr>\n",
              "      <th>5</th>\n",
              "      <td>2023-12-17</td>\n",
              "      <td>802.541859</td>\n",
              "      <td>116278.02</td>\n",
              "      <td>304.982785</td>\n",
              "      <td>3</td>\n",
              "      <td>11</td>\n",
              "    </tr>\n",
              "    <tr>\n",
              "      <th>6</th>\n",
              "      <td>2023-12-18</td>\n",
              "      <td>2178.100000</td>\n",
              "      <td>31164.18</td>\n",
              "      <td>0.000000</td>\n",
              "      <td>2</td>\n",
              "      <td>0</td>\n",
              "    </tr>\n",
              "    <tr>\n",
              "      <th>7</th>\n",
              "      <td>2023-12-19</td>\n",
              "      <td>447.801911</td>\n",
              "      <td>91602.41</td>\n",
              "      <td>1000.538612</td>\n",
              "      <td>5</td>\n",
              "      <td>10</td>\n",
              "    </tr>\n",
              "    <tr>\n",
              "      <th>8</th>\n",
              "      <td>2023-12-20</td>\n",
              "      <td>6.722872</td>\n",
              "      <td>141636.79</td>\n",
              "      <td>162.732282</td>\n",
              "      <td>10</td>\n",
              "      <td>8</td>\n",
              "    </tr>\n",
              "    <tr>\n",
              "      <th>9</th>\n",
              "      <td>2023-12-21</td>\n",
              "      <td>91.840204</td>\n",
              "      <td>125233.97</td>\n",
              "      <td>537.211402</td>\n",
              "      <td>22</td>\n",
              "      <td>27</td>\n",
              "    </tr>\n",
              "  </tbody>\n",
              "</table>\n",
              "</div>"
            ],
            "text/plain": [
              "        Date  Execution Price   Size USD   Closed PnL  Buy_Count  Sell_Count\n",
              "0 2023-01-05      1898.133333     477.00     0.000000          3           0\n",
              "1 2023-05-12     11038.300000   50005.83     0.000000          7           2\n",
              "2 2023-12-14      8031.868818  113203.35  -205.434737          5           6\n",
              "3 2023-12-15         2.982000   10609.95   -24.632034          2           0\n",
              "4 2023-12-16         0.384707   15348.77     0.000000          3           0\n",
              "5 2023-12-17       802.541859  116278.02   304.982785          3          11\n",
              "6 2023-12-18      2178.100000   31164.18     0.000000          2           0\n",
              "7 2023-12-19       447.801911   91602.41  1000.538612          5          10\n",
              "8 2023-12-20         6.722872  141636.79   162.732282         10           8\n",
              "9 2023-12-21        91.840204  125233.97   537.211402         22          27"
            ]
          },
          "execution_count": 84,
          "metadata": {},
          "output_type": "execute_result"
        }
      ],
      "source": [
        "datewise_hist_data.head(10)"
      ]
    },
    {
      "cell_type": "markdown",
      "id": "68922a6d-7f1a-4f9a-9df0-bcb07766c99b",
      "metadata": {
        "id": "68922a6d-7f1a-4f9a-9df0-bcb07766c99b"
      },
      "source": [
        "### Fear-Greed Index (Sentiment Data)"
      ]
    },
    {
      "cell_type": "code",
      "execution_count": null,
      "id": "198b0bec",
      "metadata": {
        "id": "198b0bec",
        "outputId": "c0c4f5ff-3574-4b62-9ac9-0a676acc3962"
      },
      "outputs": [
        {
          "data": {
            "text/html": [
              "<div>\n",
              "<style scoped>\n",
              "    .dataframe tbody tr th:only-of-type {\n",
              "        vertical-align: middle;\n",
              "    }\n",
              "\n",
              "    .dataframe tbody tr th {\n",
              "        vertical-align: top;\n",
              "    }\n",
              "\n",
              "    .dataframe thead th {\n",
              "        text-align: right;\n",
              "    }\n",
              "</style>\n",
              "<table border=\"1\" class=\"dataframe\">\n",
              "  <thead>\n",
              "    <tr style=\"text-align: right;\">\n",
              "      <th></th>\n",
              "      <th>timestamp</th>\n",
              "      <th>value</th>\n",
              "      <th>classification</th>\n",
              "      <th>date</th>\n",
              "    </tr>\n",
              "  </thead>\n",
              "  <tbody>\n",
              "    <tr>\n",
              "      <th>30</th>\n",
              "      <td>1520055000</td>\n",
              "      <td>56</td>\n",
              "      <td>Greed</td>\n",
              "      <td>2018-03-03</td>\n",
              "    </tr>\n",
              "    <tr>\n",
              "      <th>31</th>\n",
              "      <td>1520141400</td>\n",
              "      <td>44</td>\n",
              "      <td>Fear</td>\n",
              "      <td>2018-03-04</td>\n",
              "    </tr>\n",
              "    <tr>\n",
              "      <th>32</th>\n",
              "      <td>1520227800</td>\n",
              "      <td>55</td>\n",
              "      <td>Greed</td>\n",
              "      <td>2018-03-05</td>\n",
              "    </tr>\n",
              "    <tr>\n",
              "      <th>33</th>\n",
              "      <td>1520314200</td>\n",
              "      <td>59</td>\n",
              "      <td>Greed</td>\n",
              "      <td>2018-03-06</td>\n",
              "    </tr>\n",
              "    <tr>\n",
              "      <th>34</th>\n",
              "      <td>1520400600</td>\n",
              "      <td>37</td>\n",
              "      <td>Fear</td>\n",
              "      <td>2018-03-07</td>\n",
              "    </tr>\n",
              "    <tr>\n",
              "      <th>35</th>\n",
              "      <td>1520487000</td>\n",
              "      <td>39</td>\n",
              "      <td>Fear</td>\n",
              "      <td>2018-03-08</td>\n",
              "    </tr>\n",
              "    <tr>\n",
              "      <th>36</th>\n",
              "      <td>1520573400</td>\n",
              "      <td>37</td>\n",
              "      <td>Fear</td>\n",
              "      <td>2018-03-09</td>\n",
              "    </tr>\n",
              "    <tr>\n",
              "      <th>37</th>\n",
              "      <td>1520659800</td>\n",
              "      <td>39</td>\n",
              "      <td>Fear</td>\n",
              "      <td>2018-03-10</td>\n",
              "    </tr>\n",
              "    <tr>\n",
              "      <th>38</th>\n",
              "      <td>1520746200</td>\n",
              "      <td>40</td>\n",
              "      <td>Fear</td>\n",
              "      <td>2018-03-11</td>\n",
              "    </tr>\n",
              "    <tr>\n",
              "      <th>39</th>\n",
              "      <td>1520832600</td>\n",
              "      <td>41</td>\n",
              "      <td>Fear</td>\n",
              "      <td>2018-03-12</td>\n",
              "    </tr>\n",
              "  </tbody>\n",
              "</table>\n",
              "</div>"
            ],
            "text/plain": [
              "     timestamp  value classification        date\n",
              "30  1520055000     56          Greed  2018-03-03\n",
              "31  1520141400     44           Fear  2018-03-04\n",
              "32  1520227800     55          Greed  2018-03-05\n",
              "33  1520314200     59          Greed  2018-03-06\n",
              "34  1520400600     37           Fear  2018-03-07\n",
              "35  1520487000     39           Fear  2018-03-08\n",
              "36  1520573400     37           Fear  2018-03-09\n",
              "37  1520659800     39           Fear  2018-03-10\n",
              "38  1520746200     40           Fear  2018-03-11\n",
              "39  1520832600     41           Fear  2018-03-12"
            ]
          },
          "execution_count": 85,
          "metadata": {},
          "output_type": "execute_result"
        }
      ],
      "source": [
        "sent_data[30:40]"
      ]
    },
    {
      "cell_type": "raw",
      "id": "8d897c43-5227-4ac0-adbe-729429988e31",
      "metadata": {
        "id": "8d897c43-5227-4ac0-adbe-729429988e31"
      },
      "source": [
        "timestamp is in a unix format. after connverting to IST format the date eectly matches with the date column."
      ]
    },
    {
      "cell_type": "code",
      "execution_count": null,
      "id": "fced91a8-ebc4-4764-988d-cd720ae4d0be",
      "metadata": {
        "id": "fced91a8-ebc4-4764-988d-cd720ae4d0be",
        "outputId": "e8d25673-7e31-467c-e8d2-481fc282c1bc"
      },
      "outputs": [
        {
          "data": {
            "text/html": [
              "<div>\n",
              "<style scoped>\n",
              "    .dataframe tbody tr th:only-of-type {\n",
              "        vertical-align: middle;\n",
              "    }\n",
              "\n",
              "    .dataframe tbody tr th {\n",
              "        vertical-align: top;\n",
              "    }\n",
              "\n",
              "    .dataframe thead th {\n",
              "        text-align: right;\n",
              "    }\n",
              "</style>\n",
              "<table border=\"1\" class=\"dataframe\">\n",
              "  <thead>\n",
              "    <tr style=\"text-align: right;\">\n",
              "      <th></th>\n",
              "      <th>value</th>\n",
              "      <th>classification</th>\n",
              "      <th>date</th>\n",
              "    </tr>\n",
              "  </thead>\n",
              "  <tbody>\n",
              "    <tr>\n",
              "      <th>0</th>\n",
              "      <td>30</td>\n",
              "      <td>Fear</td>\n",
              "      <td>2018-02-01</td>\n",
              "    </tr>\n",
              "    <tr>\n",
              "      <th>1</th>\n",
              "      <td>15</td>\n",
              "      <td>Extreme Fear</td>\n",
              "      <td>2018-02-02</td>\n",
              "    </tr>\n",
              "    <tr>\n",
              "      <th>2</th>\n",
              "      <td>40</td>\n",
              "      <td>Fear</td>\n",
              "      <td>2018-02-03</td>\n",
              "    </tr>\n",
              "    <tr>\n",
              "      <th>3</th>\n",
              "      <td>24</td>\n",
              "      <td>Extreme Fear</td>\n",
              "      <td>2018-02-04</td>\n",
              "    </tr>\n",
              "  </tbody>\n",
              "</table>\n",
              "</div>"
            ],
            "text/plain": [
              "   value classification        date\n",
              "0     30           Fear  2018-02-01\n",
              "1     15   Extreme Fear  2018-02-02\n",
              "2     40           Fear  2018-02-03\n",
              "3     24   Extreme Fear  2018-02-04"
            ]
          },
          "execution_count": 86,
          "metadata": {},
          "output_type": "execute_result"
        }
      ],
      "source": [
        "sent_data1 = sent_data.drop(columns=[\"timestamp\"])\n",
        "sent_data1.head(4)"
      ]
    },
    {
      "cell_type": "code",
      "execution_count": null,
      "id": "47e678d8-e5f2-4464-8ddf-30c3c25a9cc9",
      "metadata": {
        "id": "47e678d8-e5f2-4464-8ddf-30c3c25a9cc9",
        "outputId": "987492c0-3192-40e4-fdd4-f1cd967bccb1"
      },
      "outputs": [
        {
          "name": "stdout",
          "output_type": "stream",
          "text": [
            "<class 'pandas.core.frame.DataFrame'>\n",
            "RangeIndex: 2644 entries, 0 to 2643\n",
            "Data columns (total 3 columns):\n",
            " #   Column          Non-Null Count  Dtype \n",
            "---  ------          --------------  ----- \n",
            " 0   value           2644 non-null   int64 \n",
            " 1   classification  2644 non-null   object\n",
            " 2   date            2644 non-null   object\n",
            "dtypes: int64(1), object(2)\n",
            "memory usage: 62.1+ KB\n"
          ]
        }
      ],
      "source": [
        "sent_data1.info()"
      ]
    },
    {
      "cell_type": "markdown",
      "id": "a20f4f3d",
      "metadata": {
        "id": "a20f4f3d"
      },
      "source": [
        "zero missing value, and Date have object datatype"
      ]
    },
    {
      "cell_type": "code",
      "execution_count": null,
      "id": "441d2a38-a909-40a6-8979-b1367f784d17",
      "metadata": {
        "id": "441d2a38-a909-40a6-8979-b1367f784d17",
        "outputId": "f1938e5d-3df7-4988-841e-ee14b739b1e9"
      },
      "outputs": [
        {
          "data": {
            "text/plain": [
              "value                      int64\n",
              "classification            object\n",
              "date              datetime64[ns]\n",
              "dtype: object"
            ]
          },
          "execution_count": 88,
          "metadata": {},
          "output_type": "execute_result"
        }
      ],
      "source": [
        "sent_data1[\"date\"] = sent_data1[\"date\"].astype('datetime64[ns]')\n",
        "sent_data1.dtypes"
      ]
    },
    {
      "cell_type": "code",
      "execution_count": null,
      "id": "1c772027-b54c-4797-b338-43dad546c22c",
      "metadata": {
        "id": "1c772027-b54c-4797-b338-43dad546c22c",
        "outputId": "5aaac347-f826-4332-b45c-126e02dd8b02"
      },
      "outputs": [
        {
          "data": {
            "text/plain": [
              "0"
            ]
          },
          "execution_count": 89,
          "metadata": {},
          "output_type": "execute_result"
        }
      ],
      "source": [
        "sent_data1.duplicated().sum()"
      ]
    },
    {
      "cell_type": "code",
      "execution_count": null,
      "id": "bdb8ec27",
      "metadata": {
        "id": "bdb8ec27"
      },
      "outputs": [],
      "source": [
        "sent_data1 = sent_data1.rename(columns={'date' : 'Date'})"
      ]
    },
    {
      "cell_type": "markdown",
      "id": "2d0b69b9-3a91-4397-85f6-50ff4ed73923",
      "metadata": {
        "id": "2d0b69b9-3a91-4397-85f6-50ff4ed73923"
      },
      "source": [
        "## Merge given datasets"
      ]
    },
    {
      "cell_type": "code",
      "execution_count": null,
      "id": "d2b4dbee",
      "metadata": {
        "id": "d2b4dbee",
        "outputId": "3031b58b-8556-4f2c-e043-57ec20e2a475"
      },
      "outputs": [
        {
          "name": "stdout",
          "output_type": "stream",
          "text": [
            "\n",
            "Type of 'Date' in datewise_hist_data: datetime64[ns]\n",
            "Type of 'Date' in sent_data1: datetime64[ns]\n"
          ]
        }
      ],
      "source": [
        "# for merging both dataset need to have same column name with same dtype\n",
        "\n",
        "print(\"\\nType of 'Date' in datewise_hist_data:\", datewise_hist_data['Date'].dtype)\n",
        "print(\"Type of 'Date' in sent_data1:\", sent_data1['Date'].dtype)"
      ]
    },
    {
      "cell_type": "code",
      "execution_count": null,
      "id": "33415fe0",
      "metadata": {
        "id": "33415fe0"
      },
      "outputs": [],
      "source": [
        "merged_dataset = datewise_hist_data.merge(sent_data1, on= 'Date',how = 'left')"
      ]
    },
    {
      "cell_type": "code",
      "execution_count": null,
      "id": "e8e3258c",
      "metadata": {
        "id": "e8e3258c",
        "outputId": "3d0d69a3-a775-4814-acc3-a0876da9984b"
      },
      "outputs": [
        {
          "data": {
            "text/html": [
              "<div>\n",
              "<style scoped>\n",
              "    .dataframe tbody tr th:only-of-type {\n",
              "        vertical-align: middle;\n",
              "    }\n",
              "\n",
              "    .dataframe tbody tr th {\n",
              "        vertical-align: top;\n",
              "    }\n",
              "\n",
              "    .dataframe thead th {\n",
              "        text-align: right;\n",
              "    }\n",
              "</style>\n",
              "<table border=\"1\" class=\"dataframe\">\n",
              "  <thead>\n",
              "    <tr style=\"text-align: right;\">\n",
              "      <th></th>\n",
              "      <th>Date</th>\n",
              "      <th>Execution Price</th>\n",
              "      <th>Size USD</th>\n",
              "      <th>Closed PnL</th>\n",
              "      <th>Buy_Count</th>\n",
              "      <th>Sell_Count</th>\n",
              "      <th>value</th>\n",
              "      <th>classification</th>\n",
              "    </tr>\n",
              "  </thead>\n",
              "  <tbody>\n",
              "    <tr>\n",
              "      <th>438</th>\n",
              "      <td>2025-04-21</td>\n",
              "      <td>37148.288355</td>\n",
              "      <td>41330828.85</td>\n",
              "      <td>32411.989926</td>\n",
              "      <td>482</td>\n",
              "      <td>928</td>\n",
              "      <td>39.0</td>\n",
              "      <td>Fear</td>\n",
              "    </tr>\n",
              "    <tr>\n",
              "      <th>76</th>\n",
              "      <td>2024-03-04</td>\n",
              "      <td>8.328300</td>\n",
              "      <td>16887.57</td>\n",
              "      <td>126.788400</td>\n",
              "      <td>3</td>\n",
              "      <td>1</td>\n",
              "      <td>82.0</td>\n",
              "      <td>Extreme Greed</td>\n",
              "    </tr>\n",
              "    <tr>\n",
              "      <th>272</th>\n",
              "      <td>2024-10-04</td>\n",
              "      <td>3433.470732</td>\n",
              "      <td>351735.97</td>\n",
              "      <td>5207.443414</td>\n",
              "      <td>40</td>\n",
              "      <td>1</td>\n",
              "      <td>41.0</td>\n",
              "      <td>Fear</td>\n",
              "    </tr>\n",
              "    <tr>\n",
              "      <th>70</th>\n",
              "      <td>2024-02-27</td>\n",
              "      <td>39.514602</td>\n",
              "      <td>195298.82</td>\n",
              "      <td>1191.559943</td>\n",
              "      <td>26</td>\n",
              "      <td>28</td>\n",
              "      <td>79.0</td>\n",
              "      <td>Extreme Greed</td>\n",
              "    </tr>\n",
              "  </tbody>\n",
              "</table>\n",
              "</div>"
            ],
            "text/plain": [
              "          Date  Execution Price     Size USD    Closed PnL  Buy_Count  \\\n",
              "438 2025-04-21     37148.288355  41330828.85  32411.989926        482   \n",
              "76  2024-03-04         8.328300     16887.57    126.788400          3   \n",
              "272 2024-10-04      3433.470732    351735.97   5207.443414         40   \n",
              "70  2024-02-27        39.514602    195298.82   1191.559943         26   \n",
              "\n",
              "     Sell_Count  value classification  \n",
              "438         928   39.0           Fear  \n",
              "76            1   82.0  Extreme Greed  \n",
              "272           1   41.0           Fear  \n",
              "70           28   79.0  Extreme Greed  "
            ]
          },
          "execution_count": 93,
          "metadata": {},
          "output_type": "execute_result"
        }
      ],
      "source": [
        "merged_dataset.sample(4)"
      ]
    },
    {
      "cell_type": "markdown",
      "id": "b8448c61",
      "metadata": {
        "id": "b8448c61"
      },
      "source": [
        "# EDA"
      ]
    },
    {
      "cell_type": "code",
      "execution_count": null,
      "id": "f17eb3e3",
      "metadata": {
        "id": "f17eb3e3",
        "outputId": "808be2f3-4c03-476d-88de-aa1cdcd4d3c8"
      },
      "outputs": [
        {
          "name": "stdout",
          "output_type": "stream",
          "text": [
            "<class 'pandas.core.frame.DataFrame'>\n",
            "RangeIndex: 480 entries, 0 to 479\n",
            "Data columns (total 8 columns):\n",
            " #   Column           Non-Null Count  Dtype         \n",
            "---  ------           --------------  -----         \n",
            " 0   Date             480 non-null    datetime64[ns]\n",
            " 1   Execution Price  480 non-null    float64       \n",
            " 2   Size USD         480 non-null    float64       \n",
            " 3   Closed PnL       480 non-null    float64       \n",
            " 4   Buy_Count        480 non-null    int32         \n",
            " 5   Sell_Count       480 non-null    int32         \n",
            " 6   value            449 non-null    float64       \n",
            " 7   classification   449 non-null    object        \n",
            "dtypes: datetime64[ns](1), float64(4), int32(2), object(1)\n",
            "memory usage: 26.4+ KB\n"
          ]
        }
      ],
      "source": [
        "merged_dataset.info()"
      ]
    },
    {
      "cell_type": "code",
      "execution_count": null,
      "id": "37bedae3",
      "metadata": {
        "id": "37bedae3"
      },
      "outputs": [],
      "source": [
        "# for eda keep only row with sentiment data(classification, value columns)\n",
        "\n",
        "dataset = merged_dataset.dropna(subset=['classification', 'value'])\n"
      ]
    },
    {
      "cell_type": "code",
      "execution_count": null,
      "id": "6aa7aad4",
      "metadata": {
        "id": "6aa7aad4",
        "outputId": "5e3048a4-8dac-49f9-aeb8-c3f1f2260ddb"
      },
      "outputs": [
        {
          "name": "stdout",
          "output_type": "stream",
          "text": [
            "<class 'pandas.core.frame.DataFrame'>\n",
            "Index: 449 entries, 0 to 449\n",
            "Data columns (total 8 columns):\n",
            " #   Column           Non-Null Count  Dtype         \n",
            "---  ------           --------------  -----         \n",
            " 0   Date             449 non-null    datetime64[ns]\n",
            " 1   Execution Price  449 non-null    float64       \n",
            " 2   Size USD         449 non-null    float64       \n",
            " 3   Closed PnL       449 non-null    float64       \n",
            " 4   Buy_Count        449 non-null    int32         \n",
            " 5   Sell_Count       449 non-null    int32         \n",
            " 6   value            449 non-null    float64       \n",
            " 7   classification   449 non-null    object        \n",
            "dtypes: datetime64[ns](1), float64(4), int32(2), object(1)\n",
            "memory usage: 28.1+ KB\n"
          ]
        }
      ],
      "source": [
        "dataset.info()"
      ]
    },
    {
      "cell_type": "code",
      "execution_count": null,
      "id": "94d993e2",
      "metadata": {
        "id": "94d993e2",
        "outputId": "23949384-a0b8-4d9e-a3fc-efa0e44f8ff9"
      },
      "outputs": [
        {
          "data": {
            "text/html": [
              "<div>\n",
              "<style scoped>\n",
              "    .dataframe tbody tr th:only-of-type {\n",
              "        vertical-align: middle;\n",
              "    }\n",
              "\n",
              "    .dataframe tbody tr th {\n",
              "        vertical-align: top;\n",
              "    }\n",
              "\n",
              "    .dataframe thead th {\n",
              "        text-align: right;\n",
              "    }\n",
              "</style>\n",
              "<table border=\"1\" class=\"dataframe\">\n",
              "  <thead>\n",
              "    <tr style=\"text-align: right;\">\n",
              "      <th></th>\n",
              "      <th>Date</th>\n",
              "      <th>Execution Price</th>\n",
              "      <th>Size USD</th>\n",
              "      <th>Closed PnL</th>\n",
              "      <th>Buy_Count</th>\n",
              "      <th>Sell_Count</th>\n",
              "      <th>value</th>\n",
              "      <th>classification</th>\n",
              "    </tr>\n",
              "  </thead>\n",
              "  <tbody>\n",
              "    <tr>\n",
              "      <th>445</th>\n",
              "      <td>2025-04-28</td>\n",
              "      <td>57110.311099</td>\n",
              "      <td>25900675.92</td>\n",
              "      <td>36772.925721</td>\n",
              "      <td>599</td>\n",
              "      <td>714</td>\n",
              "      <td>54.0</td>\n",
              "      <td>Neutral</td>\n",
              "    </tr>\n",
              "    <tr>\n",
              "      <th>446</th>\n",
              "      <td>2025-04-29</td>\n",
              "      <td>27145.726438</td>\n",
              "      <td>33279580.20</td>\n",
              "      <td>123054.478988</td>\n",
              "      <td>1044</td>\n",
              "      <td>1007</td>\n",
              "      <td>60.0</td>\n",
              "      <td>Greed</td>\n",
              "    </tr>\n",
              "    <tr>\n",
              "      <th>447</th>\n",
              "      <td>2025-04-30</td>\n",
              "      <td>35779.768479</td>\n",
              "      <td>12490918.90</td>\n",
              "      <td>12929.167595</td>\n",
              "      <td>760</td>\n",
              "      <td>264</td>\n",
              "      <td>56.0</td>\n",
              "      <td>Greed</td>\n",
              "    </tr>\n",
              "    <tr>\n",
              "      <th>448</th>\n",
              "      <td>2025-05-01</td>\n",
              "      <td>7923.559253</td>\n",
              "      <td>451789.84</td>\n",
              "      <td>3187.719363</td>\n",
              "      <td>65</td>\n",
              "      <td>171</td>\n",
              "      <td>53.0</td>\n",
              "      <td>Neutral</td>\n",
              "    </tr>\n",
              "    <tr>\n",
              "      <th>449</th>\n",
              "      <td>2025-05-02</td>\n",
              "      <td>18599.484980</td>\n",
              "      <td>8329172.01</td>\n",
              "      <td>55351.686448</td>\n",
              "      <td>618</td>\n",
              "      <td>516</td>\n",
              "      <td>67.0</td>\n",
              "      <td>Greed</td>\n",
              "    </tr>\n",
              "  </tbody>\n",
              "</table>\n",
              "</div>"
            ],
            "text/plain": [
              "          Date  Execution Price     Size USD     Closed PnL  Buy_Count  \\\n",
              "445 2025-04-28     57110.311099  25900675.92   36772.925721        599   \n",
              "446 2025-04-29     27145.726438  33279580.20  123054.478988       1044   \n",
              "447 2025-04-30     35779.768479  12490918.90   12929.167595        760   \n",
              "448 2025-05-01      7923.559253    451789.84    3187.719363         65   \n",
              "449 2025-05-02     18599.484980   8329172.01   55351.686448        618   \n",
              "\n",
              "     Sell_Count  value classification  \n",
              "445         714   54.0        Neutral  \n",
              "446        1007   60.0          Greed  \n",
              "447         264   56.0          Greed  \n",
              "448         171   53.0        Neutral  \n",
              "449         516   67.0          Greed  "
            ]
          },
          "execution_count": 97,
          "metadata": {},
          "output_type": "execute_result"
        }
      ],
      "source": [
        "dataset.tail()"
      ]
    },
    {
      "cell_type": "code",
      "execution_count": null,
      "id": "ab77d5a3",
      "metadata": {
        "id": "ab77d5a3",
        "outputId": "5112c1de-0399-4716-8222-514e997e6b86"
      },
      "outputs": [
        {
          "data": {
            "text/html": [
              "<div>\n",
              "<style scoped>\n",
              "    .dataframe tbody tr th:only-of-type {\n",
              "        vertical-align: middle;\n",
              "    }\n",
              "\n",
              "    .dataframe tbody tr th {\n",
              "        vertical-align: top;\n",
              "    }\n",
              "\n",
              "    .dataframe thead th {\n",
              "        text-align: right;\n",
              "    }\n",
              "</style>\n",
              "<table border=\"1\" class=\"dataframe\">\n",
              "  <thead>\n",
              "    <tr style=\"text-align: right;\">\n",
              "      <th></th>\n",
              "      <th>Date</th>\n",
              "      <th>Execution Price</th>\n",
              "      <th>Size USD</th>\n",
              "      <th>Closed PnL</th>\n",
              "      <th>Buy_Count</th>\n",
              "      <th>Sell_Count</th>\n",
              "      <th>value</th>\n",
              "    </tr>\n",
              "  </thead>\n",
              "  <tbody>\n",
              "    <tr>\n",
              "      <th>count</th>\n",
              "      <td>449</td>\n",
              "      <td>449.000000</td>\n",
              "      <td>4.490000e+02</td>\n",
              "      <td>449.000000</td>\n",
              "      <td>449.000000</td>\n",
              "      <td>449.000000</td>\n",
              "      <td>449.000000</td>\n",
              "    </tr>\n",
              "    <tr>\n",
              "      <th>mean</th>\n",
              "      <td>2024-08-12 02:24:19.242761728</td>\n",
              "      <td>11372.620635</td>\n",
              "      <td>1.953809e+06</td>\n",
              "      <td>17242.300880</td>\n",
              "      <td>165.565702</td>\n",
              "      <td>174.440980</td>\n",
              "      <td>61.162584</td>\n",
              "    </tr>\n",
              "    <tr>\n",
              "      <th>min</th>\n",
              "      <td>2023-01-05 00:00:00</td>\n",
              "      <td>0.000015</td>\n",
              "      <td>1.100000e-01</td>\n",
              "      <td>-427336.928648</td>\n",
              "      <td>0.000000</td>\n",
              "      <td>0.000000</td>\n",
              "      <td>10.000000</td>\n",
              "    </tr>\n",
              "    <tr>\n",
              "      <th>25%</th>\n",
              "      <td>2024-04-12 00:00:00</td>\n",
              "      <td>892.907623</td>\n",
              "      <td>8.691437e+04</td>\n",
              "      <td>0.000000</td>\n",
              "      <td>7.000000</td>\n",
              "      <td>6.000000</td>\n",
              "      <td>49.000000</td>\n",
              "    </tr>\n",
              "    <tr>\n",
              "      <th>50%</th>\n",
              "      <td>2024-08-09 00:00:00</td>\n",
              "      <td>3433.470732</td>\n",
              "      <td>2.727421e+05</td>\n",
              "      <td>964.253550</td>\n",
              "      <td>27.000000</td>\n",
              "      <td>28.000000</td>\n",
              "      <td>70.000000</td>\n",
              "    </tr>\n",
              "    <tr>\n",
              "      <th>75%</th>\n",
              "      <td>2024-12-10 00:00:00</td>\n",
              "      <td>13680.541180</td>\n",
              "      <td>1.115058e+06</td>\n",
              "      <td>7236.972505</td>\n",
              "      <td>145.000000</td>\n",
              "      <td>192.000000</td>\n",
              "      <td>74.000000</td>\n",
              "    </tr>\n",
              "    <tr>\n",
              "      <th>max</th>\n",
              "      <td>2025-05-02 00:00:00</td>\n",
              "      <td>68880.000000</td>\n",
              "      <td>4.133083e+07</td>\n",
              "      <td>573752.904775</td>\n",
              "      <td>3982.000000</td>\n",
              "      <td>1871.000000</td>\n",
              "      <td>94.000000</td>\n",
              "    </tr>\n",
              "    <tr>\n",
              "      <th>std</th>\n",
              "      <td>NaN</td>\n",
              "      <td>17136.536980</td>\n",
              "      <td>5.269417e+06</td>\n",
              "      <td>64465.004237</td>\n",
              "      <td>368.816436</td>\n",
              "      <td>321.173048</td>\n",
              "      <td>18.207701</td>\n",
              "    </tr>\n",
              "  </tbody>\n",
              "</table>\n",
              "</div>"
            ],
            "text/plain": [
              "                                Date  Execution Price      Size USD  \\\n",
              "count                            449       449.000000  4.490000e+02   \n",
              "mean   2024-08-12 02:24:19.242761728     11372.620635  1.953809e+06   \n",
              "min              2023-01-05 00:00:00         0.000015  1.100000e-01   \n",
              "25%              2024-04-12 00:00:00       892.907623  8.691437e+04   \n",
              "50%              2024-08-09 00:00:00      3433.470732  2.727421e+05   \n",
              "75%              2024-12-10 00:00:00     13680.541180  1.115058e+06   \n",
              "max              2025-05-02 00:00:00     68880.000000  4.133083e+07   \n",
              "std                              NaN     17136.536980  5.269417e+06   \n",
              "\n",
              "          Closed PnL    Buy_Count   Sell_Count       value  \n",
              "count     449.000000   449.000000   449.000000  449.000000  \n",
              "mean    17242.300880   165.565702   174.440980   61.162584  \n",
              "min   -427336.928648     0.000000     0.000000   10.000000  \n",
              "25%         0.000000     7.000000     6.000000   49.000000  \n",
              "50%       964.253550    27.000000    28.000000   70.000000  \n",
              "75%      7236.972505   145.000000   192.000000   74.000000  \n",
              "max    573752.904775  3982.000000  1871.000000   94.000000  \n",
              "std     64465.004237   368.816436   321.173048   18.207701  "
            ]
          },
          "execution_count": 98,
          "metadata": {},
          "output_type": "execute_result"
        }
      ],
      "source": [
        "dataset.describe()"
      ]
    },
    {
      "cell_type": "markdown",
      "id": "5cacd429",
      "metadata": {
        "id": "5cacd429"
      },
      "source": [
        "Observation:\n",
        "- Available data is for a 2.5 year for a duration of Jan 2023 to May 2025\n",
        "- Most of the trading has performed at around a price 11000 to 13000, outlier do exist\n",
        "- For most of the days traders have experienced profits with an average closing time profit of 17242\n",
        "- Buy and sell counts for most of the trades are balanced.\n",
        "- For most of the days the market sentiment is observed greedy\n"
      ]
    },
    {
      "cell_type": "markdown",
      "id": "d3505fea",
      "metadata": {
        "id": "d3505fea"
      },
      "source": [
        "# Visualization"
      ]
    },
    {
      "cell_type": "code",
      "execution_count": null,
      "id": "60b449e4",
      "metadata": {
        "id": "60b449e4"
      },
      "outputs": [],
      "source": [
        "sns.set(style=\"darkgrid\")\n",
        "plt.rcParams['figure.figsize'] = (8,4)"
      ]
    },
    {
      "cell_type": "code",
      "execution_count": null,
      "id": "07406750",
      "metadata": {
        "id": "07406750",
        "outputId": "b5e22c47-01eb-4db3-adbd-774212637c82"
      },
      "outputs": [
        {
          "name": "stderr",
          "output_type": "stream",
          "text": [
            "C:\\Users\\User\\AppData\\Local\\Temp\\ipykernel_9192\\3048501451.py:5: FutureWarning: \n",
            "\n",
            "Passing `palette` without assigning `hue` is deprecated and will be removed in v0.14.0. Assign the `x` variable to `hue` and set `legend=False` for the same effect.\n",
            "\n",
            "  sns.barplot(x=avg_Closed_PnL.index, y=avg_Closed_PnL.values, palette=colors)\n"
          ]
        },
        {
          "data": {
            "image/png": "[encoded data removed]",
            "text/plain": [
              "<Figure size 800x400 with 1 Axes>"
            ]
          },
          "metadata": {},
          "output_type": "display_data"
        }
      ],
      "source": [
        "\n",
        "avg_Closed_PnL = dataset.groupby('classification')['Closed PnL'].mean().sort_index()                   # output as avg_Closed_PnL = index(label for row):values ; index=sentiment ; values = avg closed pnl\n",
        "\n",
        "colors = ['lightgreen' if x >= 0 else 'lightcoral' for x in avg_Closed_PnL.values]                     # lightgreen=positive ; lightcoral=negative value\n",
        "\n",
        "sns.barplot(x=avg_Closed_PnL.index, y=avg_Closed_PnL.values, palette=colors)\n",
        "plt.title('Average Closed PnL by Market Sentiment')\n",
        "plt.ylabel('Average Closed PnL')\n",
        "plt.xlabel('Market Sentiment')\n",
        "plt.show()"
      ]
    },
    {
      "cell_type": "markdown",
      "id": "3b084804",
      "metadata": {
        "id": "3b084804"
      },
      "source": [
        "- More profit is observed to be gained by trader on fear and extreme fear market sentiment\n",
        "- When the market is greedy less profit is gained compared to other days\n",
        "- When the market is extremely greedy or neutral, the trader has moderate gain.\n",
        "- Irrespective of market sentiment traders always have gained profit(lightgreen colour)\n"
      ]
    },
    {
      "cell_type": "code",
      "execution_count": null,
      "id": "8a334739",
      "metadata": {
        "id": "8a334739",
        "outputId": "18ef3678-74a6-4a36-8b0f-73c7bb584bc7"
      },
      "outputs": [
        {
          "data": {
            "image/png": "[encoded data removed]",
            "text/plain": [
              "<Figure size 800x400 with 1 Axes>"
            ]
          },
          "metadata": {},
          "output_type": "display_data"
        }
      ],
      "source": [
        "sentiments = dataset['classification'].value_counts()                       # output as sentiments = fear:no. of time fear repeated\n",
        "plt.pie(sentiments,\n",
        "        labels=sentiments.index,\n",
        "        autopct='%1.1f%%',\n",
        "        colors=['red','lightcoral','lightblue','lightgreen','green'])\n",
        "plt.title('Proportion of Market Sentiments for duration 01/2023 to 05/2025 ')\n",
        "plt.show()\n"
      ]
    },
    {
      "cell_type": "markdown",
      "id": "4f4b9ef1",
      "metadata": {
        "id": "4f4b9ef1"
      },
      "source": [
        "- Most of the time the market is observed to be as greedy indicating that less traders gain.\n",
        "- The frequency of occurrences of extreme fear, fear and neutral market sentiments are almost similar whereas the extreme fear experienced only a few times.\n",
        "- Most of the trading has done on greedy or neutral days, while a very few trading has observed on fear sentiment\n"
      ]
    },
    {
      "cell_type": "code",
      "execution_count": null,
      "id": "275fb657",
      "metadata": {
        "id": "275fb657",
        "outputId": "3205e99b-3df6-42fd-e1f4-612c1dcb6288"
      },
      "outputs": [
        {
          "data": {
            "image/png": "[encoded data removed]",
            "text/plain": [
              "<Figure size 800x400 with 1 Axes>"
            ]
          },
          "metadata": {},
          "output_type": "display_data"
        }
      ],
      "source": [
        "scat_colors = ['red', 'green', 'blue', 'orange', 'purple']\n",
        "\n",
        "sns.scatterplot(\n",
        "    data=dataset,\n",
        "    x='Size USD',\n",
        "    y='Closed PnL',\n",
        "    hue='classification',\n",
        "    alpha=0.6,                                    # transperancy of scatters\n",
        "    palette=scat_colors )\n",
        "\n",
        "plt.xlim(dataset['Size USD'].min(), dataset['Size USD'].max())\n",
        "plt.ylim(dataset['Closed PnL'].min(), dataset['Closed PnL'].max())\n",
        "\n",
        "plt.title('Trade Size vs Closed PnL by Market Sentiment')\n",
        "plt.xlabel('Trade Size (USD)')\n",
        "plt.ylabel('Closed PnL')\n",
        "plt.show()\n"
      ]
    },
    {
      "cell_type": "markdown",
      "id": "bce43690",
      "metadata": {
        "id": "bce43690"
      },
      "source": [
        "- note: 1e7 = 1 * 10^7\n",
        "- During fear sentiment moderate size trade gives more benefit.\n",
        "- During extreme(fear or greed) sentiments risk is more, so it's better to do less or avoid trading\n",
        "- Having more trade size do not ensure profit\n"
      ]
    }
  ],
  "metadata": {
    "kernelspec": {
      "display_name": "base",
      "language": "python",
      "name": "python3"
    },
    "language_info": {
      "codemirror_mode": {
        "name": "ipython",
        "version": 3
      },
      "file_extension": ".py",
      "mimetype": "text/x-python",
      "name": "python",
      "nbconvert_exporter": "python",
      "pygments_lexer": "ipython3",
      "version": "3.12.7"
    },
    "colab": {
      "provenance": []
    }
  },
  "nbformat": 4,
  "nbformat_minor": 5
}